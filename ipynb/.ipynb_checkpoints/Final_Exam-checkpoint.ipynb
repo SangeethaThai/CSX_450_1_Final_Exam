{
 "cells": [
  {
   "cell_type": "markdown",
   "metadata": {},
   "source": [
    "# FINAL EXAM"
   ]
  },
  {
   "cell_type": "markdown",
   "metadata": {},
   "source": [
    "### 1) AWS Instance\n",
    "![AWS Instance](../images/AWS_Instance.PNG)"
   ]
  },
  {
   "cell_type": "markdown",
   "metadata": {},
   "source": [
    "### 2)"
   ]
  },
  {
   "cell_type": "code",
   "execution_count": 2,
   "metadata": {},
   "outputs": [
    {
     "name": "stdout",
     "output_type": "stream",
     "text": [
      "[1] \"USER       PID %CPU %MEM    VSZ   RSS TTY      STAT START   TIME COMMAND\"                                                                                                                                                  \n",
      "[2] \"jovyan       1  0.0  0.0   4364   632 ?        Ss   16:51   0:00 tini -- start-notebook.sh\"                                                                                                                                \n",
      "[3] \"jovyan       5  0.0  6.1 357832 62468 ?        Sl   16:51   0:01 /opt/conda/bin/python /opt/conda/bin/jupyter-notebook\"                                                                                                    \n",
      "[4] \"jovyan      27  0.0  5.4 319944 54876 ?        Ssl  17:02   0:00 /opt/conda/lib/R/bin/exec/R --slave -e IRkernel::main() --args /home/jovyan/.local/share/jupyter/runtime/kernel-71ae61d3-4876-48b2-abd7-2a1db0e6128c.json\"\n",
      "[5] \"jovyan      42  0.0  0.0   4504   784 ?        S    17:19   0:00 sh -c ps -aux\"                                                                                                                                            \n",
      "[6] \"jovyan      43  0.0  0.3  36084  3188 ?        R    17:19   0:00 ps -aux\"                                                                                                                                                  \n"
     ]
    }
   ],
   "source": [
    "print(system(\"ps -aux\", intern = TRUE))"
   ]
  },
  {
   "cell_type": "markdown",
   "metadata": {},
   "source": [
    "### 3)\n",
    "\n",
    "The above command display all the processes running on the AWS instance. \n",
    "\n",
    "We can see that one of the processes is our Jypyter system -\n",
    "/home/jovyan/.local/share/jupyter/runtime/kernel-71ae61d3-4876-48b2-abd7-2a1db0e6128c.json\n",
    "\n",
    "The way we can tell how long this has been running is to check the Start Time under \"START\" and calculate as follows:\n",
    "- Length of time server has been running =  Start Time - Current Time"
   ]
  },
  {
   "cell_type": "markdown",
   "metadata": {},
   "source": [
    "### 4) Length and Magnitude of vector (2,5,3,6,2,7,4,5,6)\n",
    "\n",
    "Length of (2,5,3,6,2,7,4,5,6) = number of elements in vector = 9\n",
    "\n",
    "Magnitude of vector = √(2^2 + 5^2 + 3^2 + 6^2 + 2^2 + 7^2 + 4^2 + 5^2 + 6^2) \n",
    "                   = √(4 + 25 + 9 + 36 + 4 + 49 + 16 + 25 + 36) = √(204) = 14.28286\n"
   ]
  },
  {
   "cell_type": "markdown",
   "metadata": {},
   "source": [
    "### 5)"
   ]
  },
  {
   "cell_type": "code",
   "execution_count": 17,
   "metadata": {},
   "outputs": [
    {
     "name": "stdout",
     "output_type": "stream",
     "text": [
      "Length of vector (2,5,3,6,2,7,4,5,6) =  9 \n",
      "\n",
      "Magnitude of vector (2,5,3,6,2,7,4,5,6) = 14.28286 \n",
      "\n",
      "Alternatively, Magnitude of vector (2,5,3,6,2,7,4,5,6) using norm = 14.28286"
     ]
    }
   ],
   "source": [
    "my_vector <- c(2,5,3,6,2,7,4,5,6)\n",
    "\n",
    "my_vector_length <- length(my_vector)\n",
    "cat(\"Length of vector (2,5,3,6,2,7,4,5,6) = \", my_vector_length, \"\\n\\n\") \n",
    "\n",
    "my_vector_magnitude <- sqrt(sum(my_vector^2))\n",
    "cat(\"Magnitude of vector (2,5,3,6,2,7,4,5,6) =\", my_vector_magnitude, \"\\n\\n\")\n",
    "\n",
    "my_vector_magnitude_norm <- norm(my_vector, type=\"2\")\n",
    "cat(\"Alternatively, Magnitude of vector (2,5,3,6,2,7,4,5,6) using norm =\", my_vector_magnitude_norm, \"\\n\")"
   ]
  },
  {
   "cell_type": "markdown",
   "metadata": {},
   "source": [
    "### 6)"
   ]
  },
  {
   "cell_type": "markdown",
   "metadata": {},
   "source": [
    "To find the function for the points (3, 4) and (-1, 2), we can write it in the matrix form as\n",
    "\n",
    "     B0 | 1 | +  B1 | 3  |  = | 4 |\n",
    "        | 1 |       | -1 |  = | 2 |\n",
    "\n",
    "     | 1  3  |   B0 = | 4 |\n",
    "     | 1  -1 |   B1 = | 2 |\n",
    "\n",
    "or\n",
    "\n",
    "XB = Y\n",
    "Now we can solve for B which returns X inverse Y"
   ]
  },
  {
   "cell_type": "code",
   "execution_count": 23,
   "metadata": {},
   "outputs": [
    {
     "data": {
      "text/html": [
       "<ol class=list-inline>\n",
       "\t<li>2.5</li>\n",
       "\t<li>0.5</li>\n",
       "</ol>\n"
      ],
      "text/latex": [
       "\\begin{enumerate*}\n",
       "\\item 2.5\n",
       "\\item 0.5\n",
       "\\end{enumerate*}\n"
      ],
      "text/markdown": [
       "1. 2.5\n",
       "2. 0.5\n",
       "\n",
       "\n"
      ],
      "text/plain": [
       "[1] 2.5 0.5"
      ]
     },
     "metadata": {},
     "output_type": "display_data"
    }
   ],
   "source": [
    "X <- rbind(c(1,3),c(1,-1))\n",
    "y <- c(4,2)\n",
    "B <- solve(X, y)\n",
    "B"
   ]
  },
  {
   "cell_type": "markdown",
   "metadata": {},
   "source": [
    "In the above, B0 (contant) = 2.5 and B1 (co-efficient of x) = 0.5\n",
    "\n",
    "Writing this as an equation of the form Y=mX + b we get,\n",
    "\n",
    "Y = 0.5X + 2.5\n"
   ]
  },
  {
   "cell_type": "markdown",
   "metadata": {},
   "source": [
    "### 7)\n",
    "\n",
    "        ubuntu@ip-172-31-30-104:~/CSX_450_1_Final_Exam$ tree\n",
    "    .\n",
    "    ├── data\n",
    "    │   ├── abalone.data\n",
    "    │   └── abalone.names\n",
    "    ├── images\n",
    "    │   └── AWS_Instance.PNG\n",
    "    ├── ipynb\n",
    "    │   ├── Abalone_Data_Description.ipynb\n",
    "    │   └── Final_Exam.ipynb\n",
    "    └── README.md\n",
    "\n",
    "    3 directories, 6 files\n",
    "\n",
    "    "
   ]
  }
 ],
 "metadata": {
  "kernelspec": {
   "display_name": "R",
   "language": "R",
   "name": "ir"
  },
  "language_info": {
   "codemirror_mode": "r",
   "file_extension": ".r",
   "mimetype": "text/x-r-source",
   "name": "R",
   "pygments_lexer": "r",
   "version": "3.3.2"
  }
 },
 "nbformat": 4,
 "nbformat_minor": 2
}
